{
 "cells": [
  {
   "cell_type": "markdown",
   "id": "d16ad1c7-0300-4db4-a5cd-f376b7fc9d57",
   "metadata": {},
   "source": [
    "<h1>Arbeidskrav 2</h1>"
   ]
  },
  {
   "cell_type": "markdown",
   "id": "b09ed00a-a3c0-4fb7-a85c-9e8c8ba8fb89",
   "metadata": {},
   "source": [
    "<h2>Oppgave 1)</h2>\n",
    "<b>Et program som beregner alderen til en bruker i 2024 basert på fødselsåret.</b>"
   ]
  },
  {
   "cell_type": "code",
   "execution_count": 63,
   "id": "a17e1f31-689a-4bf1-a3a6-0c46cd5f3e45",
   "metadata": {},
   "outputs": [
    {
     "name": "stdin",
     "output_type": "stream",
     "text": [
      "Hvilket år er du født? 1988\n"
     ]
    },
    {
     "name": "stdout",
     "output_type": "stream",
     "text": [
      "Du blir 36 år i år\n"
     ]
    }
   ],
   "source": [
    "fodt = int(input('Hvilket år er du født?'))\n",
    "aaret_i_aar = int(2024)\n",
    "beregnet_alder = int(aaret_i_aar - fodt)\n",
    "print(\"Du blir\", beregnet_alder, \"år i år\")"
   ]
  },
  {
   "cell_type": "markdown",
   "id": "ea1fb9ed-7b3f-44ba-b9bc-71054b6a7496",
   "metadata": {},
   "source": [
    "<h2>Oppgave 2)</h2>\n",
    "<b>Denne oppgaven beregner hvor mange pizzaer som trengs for et gitt antall elever, der hver elev spiser 1/4 av en pizza.</b>\n"
   ]
  },
  {
   "cell_type": "code",
   "execution_count": 65,
   "id": "a00d4466-689c-4ddc-b441-a0615a4e3ea0",
   "metadata": {},
   "outputs": [
    {
     "name": "stdin",
     "output_type": "stream",
     "text": [
      "Skriv antall elever: 15\n"
     ]
    },
    {
     "name": "stdout",
     "output_type": "stream",
     "text": [
      "Vi må handle inn 4 pizza(er) for å få nok til alle elevene.\n"
     ]
    }
   ],
   "source": [
    "import math\n",
    "\n",
    "antall_elever = int(input('Skriv antall elever:'))\n",
    "antall_pizza = math.ceil(antall_elever / 4)  # Bruker funksjonen math.ceil() for å runde opp til neste heltall\n",
    "print(f\"Vi må handle inn {antall_pizza} pizza(er) for å få nok til alle elevene.\")"
   ]
  },
  {
   "cell_type": "markdown",
   "id": "7f1fc050-f983-4b30-9e0f-67f69b1fc1f0",
   "metadata": {},
   "source": [
    "<h2>Oppgave 3)</h2>\n",
    "<b>Et program som konverterer en vinkel fra grader til radianer.</b>\n"
   ]
  },
  {
   "cell_type": "code",
   "execution_count": 67,
   "id": "66f55454-9b39-4d5a-bae0-946f2b043ed7",
   "metadata": {},
   "outputs": [
    {
     "name": "stdin",
     "output_type": "stream",
     "text": [
      "Skriv inn gradtallet: 24\n"
     ]
    },
    {
     "name": "stdout",
     "output_type": "stream",
     "text": [
      "Radiantallet til vinkelen er 0.419\n"
     ]
    }
   ],
   "source": [
    "import numpy as np\n",
    "\n",
    "v_grad = float(input('Skriv inn gradtallet:'))\n",
    "v_rad = v_grad*np.pi/180  # Formelen for å regne ut radiantallet til en vinkel\n",
    "print(f'Radiantallet til vinkelen er {v_rad:.3f}')"
   ]
  },
  {
   "cell_type": "markdown",
   "id": "783962b3-8ab6-478f-90da-60bca5dbae40",
   "metadata": {},
   "source": [
    "<h2>Oppgave 4)</h2>\n",
    "<b>Et program som henter og oppdaterer informasjon om hovedsteder og innbyggertall for ulike land.</b>\n"
   ]
  },
  {
   "cell_type": "markdown",
   "id": "e59504a6-8f98-4e8c-8c8d-6f4905a1a617",
   "metadata": {},
   "source": [
    "<b>a)</b>"
   ]
  },
  {
   "cell_type": "code",
   "execution_count": 70,
   "id": "485fd462-4b53-434e-a2a7-8c172e20365a",
   "metadata": {},
   "outputs": [],
   "source": [
    "data = {\n",
    "    \"Norge\": [\"Oslo\", 0.634],\n",
    "    \"England\": [\"London\", 8.982],\n",
    "    \"Frankrike\": [\"Paris\", 2.161],\n",
    "    \"Italia\": [\"Roma\", 2.873]\n",
    "}"
   ]
  },
  {
   "cell_type": "markdown",
   "id": "9e4b22c8-3010-4f91-8a97-b4106637e802",
   "metadata": {},
   "source": [
    "<b>b)</b>"
   ]
  },
  {
   "cell_type": "code",
   "execution_count": 72,
   "id": "167ec2ce-ca12-4bc8-8a79-80b4b42445e7",
   "metadata": {},
   "outputs": [
    {
     "name": "stdin",
     "output_type": "stream",
     "text": [
      "Skriv inn et land Norge\n"
     ]
    },
    {
     "name": "stdout",
     "output_type": "stream",
     "text": [
      "Oslo er hovedstaden i Norge og det er 0.634 mill. innbyggere i Oslo\n"
     ]
    }
   ],
   "source": [
    "valgt_land = input('Skriv inn et land')\n",
    "print(f\"{data[valgt_land][0]} er hovedstaden i {valgt_land} og det er {data[valgt_land][1]} mill. innbyggere i {data[valgt_land][0]}\")"
   ]
  },
  {
   "cell_type": "markdown",
   "id": "f7ef183d-1950-4303-b026-bed7442866e8",
   "metadata": {},
   "source": [
    "<b>c)</b>"
   ]
  },
  {
   "cell_type": "code",
   "execution_count": 74,
   "id": "c543a238-cdf0-4091-96e5-675700b2d0a4",
   "metadata": {},
   "outputs": [
    {
     "name": "stdin",
     "output_type": "stream",
     "text": [
      "Skriv inn et nytt land Sverige\n",
      "Skriv inn hovedstaden til det nye landet Stokkis\n",
      "Skriv inn antall innbyggere i hovedstaden 0.124\n"
     ]
    },
    {
     "name": "stdout",
     "output_type": "stream",
     "text": [
      "{'Norge': ['Oslo', 0.634], 'England': ['London', 8.982], 'Frankrike': ['Paris', 2.161], 'Italia': ['Roma', 2.873], 'Sverige': ('Stokkis', 0.124)}\n"
     ]
    }
   ],
   "source": [
    "legg_til_land = input('Skriv inn et nytt land')\n",
    "legg_til_hovedstad = input('Skriv inn hovedstaden til det nye landet')\n",
    "legg_til_innbyggere = float(input('Skriv inn antall innbyggere i hovedstaden'))\n",
    "data[legg_til_land] = (legg_til_hovedstad, legg_til_innbyggere)\n",
    "print(data)"
   ]
  },
  {
   "cell_type": "markdown",
   "id": "42242c0f-a5ab-42b5-b6e6-877e790f9405",
   "metadata": {},
   "source": [
    "<h2>Oppgave 5)</h2>\n",
    "<b>Et program som beregner totalarealet og totalomkretsen av en figur bestående av en halvsirkel og en rettvinklet trekant.</b>\n"
   ]
  },
  {
   "cell_type": "code",
   "execution_count": 76,
   "id": "873ead81-b322-456c-a0fe-476b1e8313de",
   "metadata": {},
   "outputs": [
    {
     "name": "stdout",
     "output_type": "stream",
     "text": [
      "Arealet av figuren er 26.28 og omkretsen er 27.05\n"
     ]
    }
   ],
   "source": [
    "import math\n",
    "\n",
    "def beregn_figur(a, b):\n",
    "     \n",
    "    radius_sirkel = a / 2\n",
    "    areal_sirkel = (math.pi*radius_sirkel**2)/2\n",
    "    omkrets_sirkel = math.pi*radius_sirkel\n",
    "\n",
    "    areal_trekant = (a*b)/2\n",
    "    hypotenus = math.sqrt(a**2 + b**2)\n",
    "    omkrets_trekant = hypotenus + b\n",
    "\n",
    "    total_areal = areal_sirkel + areal_trekant\n",
    "    total_omkrets = omkrets_sirkel + omkrets_trekant\n",
    "\n",
    "    return(total_areal, total_omkrets)\n",
    "    \n",
    "a = 4\n",
    "b = 10\n",
    "\n",
    "total_areal, total_omkrets = beregn_figur(a, b)\n",
    "print(f'Arealet av figuren er {total_areal:.2f} og omkretsen er {total_omkrets:.2f}')"
   ]
  },
  {
   "cell_type": "markdown",
   "id": "fd10ebcb-a1d5-44d1-855d-043235fde76e",
   "metadata": {},
   "source": [
    "<h2>Oppgave 6)</h2>\n",
    "<b>Et program som plotter funksjonen f(x) = -x^2 - 5 over intervallet [-10, 10].</b>\n"
   ]
  },
  {
   "cell_type": "code",
   "execution_count": 78,
   "id": "520ca750-9146-49b1-8edc-62871b631118",
   "metadata": {},
   "outputs": [
    {
     "data": {
      "image/png": "[encoded data removed]",
      "text/plain": [
       "<Figure size 640x480 with 1 Axes>"
      ]
     },
     "metadata": {},
     "output_type": "display_data"
    }
   ],
   "source": [
    "import numpy as np\n",
    "import matplotlib.pyplot as plt\n",
    "\n",
    "def f(x):\n",
    "    return -x**2 - 5\n",
    "    \n",
    "x = np.linspace(-10, 10, 200)\n",
    "y = f(x)\n",
    "\n",
    "plt.plot(x, y, label='f(x) = -x^2 - 5', color='blue', linestyle='--', linewidth=2)\n",
    "plt.xlabel('x')\n",
    "plt.ylabel('f(x)')\n",
    "plt.title('f(x) = -x^2 - 5')\n",
    "plt.grid()\n",
    "plt.show()\n"
   ]
  },
  {
   "cell_type": "code",
   "execution_count": null,
   "id": "2e9a43fe-7793-46c7-8034-648a242f3f97",
   "metadata": {},
   "outputs": [],
   "source": []
  }
 ],
 "metadata": {
  "kernelspec": {
   "display_name": "Python 3 (ipykernel)",
   "language": "python",
   "name": "python3"
  },
  "language_info": {
   "codemirror_mode": {
    "name": "ipython",
    "version": 3
   },
   "file_extension": ".py",
   "mimetype": "text/x-python",
   "name": "python",
   "nbconvert_exporter": "python",
   "pygments_lexer": "ipython3",
   "version": "3.12.4"
  }
 },
 "nbformat": 4,
 "nbformat_minor": 5
}
